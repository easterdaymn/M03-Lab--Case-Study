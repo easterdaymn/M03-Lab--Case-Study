{
 "cells": [
  {
   "cell_type": "code",
   "execution_count": 4,
   "id": "1f7adc8a-67e2-4cee-aee5-b96fb56f808b",
   "metadata": {},
   "outputs": [
    {
     "name": "stdout",
     "output_type": "stream",
     "text": [
      "Creating a new vehicle...\n"
     ]
    },
    {
     "name": "stdin",
     "output_type": "stream",
     "text": [
      "Enter the type of vehicle (car, truck, plane, boat, broomstick):  broomstick\n",
      "Enter the year of the vehicle:  2024\n",
      "Enter the make of the vehicle:  Ford\n",
      "Enter the model of the vehicle:  2000\n",
      "Enter the number of doors (2 or 4):  2\n",
      "Enter the type of roof (solid or sun roof):  solid\n"
     ]
    },
    {
     "name": "stdout",
     "output_type": "stream",
     "text": [
      "\n",
      "Vehicle information:\n",
      "\n",
      "Vehicle type: broomstick\n",
      "Year: 2024\n",
      "Make: Ford\n",
      "Model: 2000\n",
      "Number of doors: 2\n",
      "Type of roof: solid\n"
     ]
    }
   ],
   "source": [
    "# Define the superclass Vehicle\n",
    "class Vehicle:\n",
    "    def __init__(self, vehicle_type):\n",
    "        self.vehicle_type = vehicle_type\n",
    "\n",
    "# Define the subclass Automobile inheriting from Vehicle\n",
    "class Automobile(Vehicle):\n",
    "    def __init__(self, vehicle_type, year, make, model, doors, roof):\n",
    "        super().__init__(vehicle_type)\n",
    "        self.year = year\n",
    "        self.make = make\n",
    "        self.model = model\n",
    "        self.doors = doors\n",
    "        self.roof = roof\n",
    "\n",
    "# Function to accept user input and create a vehicle instance\n",
    "def create_vehicle():\n",
    "    print(\"Creating a new vehicle...\")\n",
    "    vehicle_type = input(\"Enter the type of vehicle (car, truck, plane, boat, broomstick): \")\n",
    "    year = input(\"Enter the year of the vehicle: \")\n",
    "    make = input(\"Enter the make of the vehicle: \")\n",
    "    model = input(\"Enter the model of the vehicle: \")\n",
    "    doors = input(\"Enter the number of doors (2 or 4): \")\n",
    "    roof = input(\"Enter the type of roof (solid or sun roof): \")\n",
    "\n",
    "    # Create an instance of Automobile\n",
    "    vehicle = Automobile(vehicle_type, year, make, model, doors, roof)\n",
    "    return vehicle\n",
    "\n",
    "# Function to display vehicle information\n",
    "def display_vehicle_info(vehicle):\n",
    "    print(\"\\nVehicle type:\", vehicle.vehicle_type)\n",
    "    print(\"Year:\", vehicle.year)\n",
    "    print(\"Make:\", vehicle.make)\n",
    "    print(\"Model:\", vehicle.model)\n",
    "    print(\"Number of doors:\", vehicle.doors)\n",
    "    print(\"Type of roof:\", vehicle.roof)\n",
    "\n",
    "# Main function to drive the program\n",
    "def main():\n",
    "    vehicle = create_vehicle()  # Create a vehicle object based on user input\n",
    "    print(\"\\nVehicle information:\")\n",
    "    display_vehicle_info(vehicle)  # Display vehicle information\n",
    "\n",
    "if __name__ == \"__main__\":\n",
    "    main()\n"
   ]
  }
 ],
 "metadata": {
  "kernelspec": {
   "display_name": "Python 3 (ipykernel)",
   "language": "python",
   "name": "python3"
  },
  "language_info": {
   "codemirror_mode": {
    "name": "ipython",
    "version": 3
   },
   "file_extension": ".py",
   "mimetype": "text/x-python",
   "name": "python",
   "nbconvert_exporter": "python",
   "pygments_lexer": "ipython3",
   "version": "3.11.7"
  }
 },
 "nbformat": 4,
 "nbformat_minor": 5
}
